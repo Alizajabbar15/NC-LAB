{
 "cells": [
  {
   "cell_type": "code",
   "execution_count": 8,
   "id": "cbaf9fad",
   "metadata": {},
   "outputs": [
    {
     "name": "stdout",
     "output_type": "stream",
     "text": [
      "<class 'bool'>\n",
      "False\n",
      "False\n",
      "True\n",
      "False\n",
      "True\n",
      "True\n",
      "True\n",
      "False\n",
      "False\n",
      "True\n",
      "True\n",
      "True\n"
     ]
    }
   ],
   "source": [
    "a = True\n",
    "b = False\n",
    "print(type(a))\n",
    "print(a and b)\n",
    "print(b and a)\n",
    "print(a and a)\n",
    "print(b and b)\n",
    "print(a or b)\n",
    "print(b or a)\n",
    "print(a or a)\n",
    "print (b or b)\n",
    "print(not a)\n",
    "print(not b)\n",
    "print(a!= b)\n",
    "print(b!= a)"
   ]
  },
  {
   "cell_type": "code",
   "execution_count": 3,
   "id": "b005aa5c",
   "metadata": {},
   "outputs": [
    {
     "name": "stdout",
     "output_type": "stream",
     "text": [
      "<class 'str'>\n",
      "False\n",
      "True\n",
      "True\n",
      "False\n",
      "True\n",
      "False\n",
      "True\n",
      "False\n"
     ]
    }
   ],
   "source": [
    "a = \"True\"\n",
    "b = \"False\"\n",
    "print(type(a))\n",
    "print(a and b)\n",
    "print(b and a)\n",
    "print(a and a)\n",
    "print(b and b)\n",
    "print(a or b)\n",
    "print(b or a)\n",
    "print(a or a)\n",
    "print (b or b)"
   ]
  },
  {
   "cell_type": "code",
   "execution_count": 6,
   "id": "3870f222",
   "metadata": {},
   "outputs": [
    {
     "name": "stdout",
     "output_type": "stream",
     "text": [
      "<class 'bool'>\n",
      "False\n",
      "False\n",
      "True\n",
      "False\n",
      "True\n",
      "True\n",
      "True\n",
      "False\n",
      "False\n",
      "True\n"
     ]
    }
   ],
   "source": [
    "a = True\n",
    "b = False\n",
    "c= False\n",
    "print(type(a))\n",
    "print(a and b and c)\n",
    "print(b and a and a)\n",
    "print(a and a and a)\n",
    "print(b and b and c)\n",
    "print(a or b)\n",
    "print(b or a)\n",
    "print(a or a)\n",
    "print (b or b)\n",
    "print(not a)\n",
    "print(not b)"
   ]
  },
  {
   "cell_type": "code",
   "execution_count": 9,
   "id": "bf5c7dab",
   "metadata": {},
   "outputs": [
    {
     "name": "stdout",
     "output_type": "stream",
     "text": [
      "False\n"
     ]
    }
   ],
   "source": [
    "a = True\n",
    "b = False\n",
    "c= a and b\n",
    "print (c)\n"
   ]
  },
  {
   "cell_type": "code",
   "execution_count": 10,
   "id": "18702168",
   "metadata": {},
   "outputs": [
    {
     "name": "stdout",
     "output_type": "stream",
     "text": [
      "True\n"
     ]
    }
   ],
   "source": [
    "a = True\n",
    "b = False\n",
    "c=  a and b or a and a or b\n",
    "print (c)"
   ]
  },
  {
   "cell_type": "code",
   "execution_count": 15,
   "id": "55c08065",
   "metadata": {},
   "outputs": [
    {
     "name": "stdout",
     "output_type": "stream",
     "text": [
      "<class 'str'>\n"
     ]
    }
   ],
   "source": [
    "a = True\n",
    "b = \"False\"\n",
    "print (type(b))\n"
   ]
  },
  {
   "cell_type": "code",
   "execution_count": 17,
   "id": "5df5b5c0",
   "metadata": {},
   "outputs": [
    {
     "name": "stdout",
     "output_type": "stream",
     "text": [
      "False\n",
      "True\n"
     ]
    }
   ],
   "source": [
    "a = True\n",
    "b = False\n",
    "c= False\n",
    "g= a and b or c\n",
    "h= a or b or c\n",
    "print(g)\n",
    "print (h)"
   ]
  },
  {
   "cell_type": "code",
   "execution_count": 20,
   "id": "2b8384eb",
   "metadata": {},
   "outputs": [
    {
     "name": "stdout",
     "output_type": "stream",
     "text": [
      "[0, 1, 2, 3, 4]\n",
      "[2, 3]\n",
      "[]\n",
      "[0, 1]\n",
      "[2, 3, 4]\n",
      "[0, 1, 2, 3, 4]\n",
      "[0, 1, 2, 3]\n",
      "[0, 1, 8, 9, 4]\n"
     ]
    }
   ],
   "source": [
    "nums= list(range(5))\n",
    "print(nums)\n",
    "print(nums[2:4]) # 2 or 4 drmayan wali values\n",
    "print(nums[4:2]) \n",
    "print(nums[:2])  # slicing (2 se choti values)\n",
    "print(nums[2:])  #\n",
    "print(nums[:])\n",
    "print(nums[:-1])\n",
    "nums[2:4]=[8,9] # new aray define horhi ha, 2 or 4th position k drmayan\n",
    "print(nums)"
   ]
  },
  {
   "cell_type": "code",
   "execution_count": 22,
   "id": "f5787da5",
   "metadata": {},
   "outputs": [
    {
     "name": "stdout",
     "output_type": "stream",
     "text": [
      "[0, 1, 2, 3, 4]\n",
      "[2, 3]\n",
      "[]\n",
      "[0, 1]\n",
      "[2, 3, 4]\n",
      "[0, 1, 2, 3, 4]\n",
      "[0, 1, 2, 3]\n",
      "[0, 8, 9, 10, 2, 3, 4]\n"
     ]
    }
   ],
   "source": [
    "nums= list(range(5))\n",
    "print(nums)\n",
    "print(nums[2:4]) # 2 or 4 drmayan wali values\n",
    "print(nums[4:2]) \n",
    "print(nums[:2])  # slicing (2 se choti values)\n",
    "print(nums[2:])  #\n",
    "print(nums[:])\n",
    "print(nums[:-1]) #array ke length kam hogi\n",
    "nums[1:2]=[8,9,10]\n",
    "print(nums)"
   ]
  },
  {
   "cell_type": "code",
   "execution_count": 24,
   "id": "3f85fce8",
   "metadata": {},
   "outputs": [
    {
     "name": "stdout",
     "output_type": "stream",
     "text": [
      "[0, 1, 2, 3, 4]\n",
      "[2, 3]\n",
      "[]\n",
      "[0, 1]\n",
      "[2, 3, 4]\n",
      "[0, 1, 2, 3, 4]\n",
      "[0, 1, 2, 3]\n",
      "[0, 8, 2, 3, 4]\n"
     ]
    }
   ],
   "source": [
    "nums= list(range(5))\n",
    "print(nums)\n",
    "print(nums[2:4]) # 2 or 4 drmayan wali values\n",
    "print(nums[4:2]) \n",
    "print(nums[:2])  # slicing (2 se choti values)\n",
    "print(nums[2:])  #\n",
    "print(nums[:])\n",
    "print(nums[:-1]) #array ke length kam hogi\n",
    "nums[1:2:4]=[8] \n",
    "print(nums)"
   ]
  },
  {
   "cell_type": "code",
   "execution_count": 25,
   "id": "ba33fd00",
   "metadata": {},
   "outputs": [
    {
     "name": "stdout",
     "output_type": "stream",
     "text": [
      "[0, 1, 2, 3, 4]\n",
      "[2, 3]\n",
      "[]\n",
      "[0, 1]\n",
      "[2, 3, 4]\n",
      "[0, 1, 2, 3, 4]\n",
      "[0, 1, 2, 3]\n",
      "[0, 1, 8, 3, 4]\n"
     ]
    }
   ],
   "source": [
    "nums= list(range(5))\n",
    "print(nums)\n",
    "print(nums[2:4]) # 2 or 4 drmayan wali values\n",
    "print(nums[4:2]) \n",
    "print(nums[:2])  # slicing (2 se choti values)\n",
    "print(nums[2:])  #\n",
    "print(nums[:])\n",
    "print(nums[:-1]) #array ke length kam hogi\n",
    "nums[2:3:4]=[8] \n",
    "print(nums)"
   ]
  },
  {
   "cell_type": "markdown",
   "id": "437a39cf",
   "metadata": {},
   "source": []
  }
 ],
 "metadata": {
  "kernelspec": {
   "display_name": "Python 3 (ipykernel)",
   "language": "python",
   "name": "python3"
  },
  "language_info": {
   "codemirror_mode": {
    "name": "ipython",
    "version": 3
   },
   "file_extension": ".py",
   "mimetype": "text/x-python",
   "name": "python",
   "nbconvert_exporter": "python",
   "pygments_lexer": "ipython3",
   "version": "3.9.7"
  }
 },
 "nbformat": 4,
 "nbformat_minor": 5
}
